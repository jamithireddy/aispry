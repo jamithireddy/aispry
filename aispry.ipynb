{
 "cells": [
  {
   "cell_type": "code",
   "execution_count": null,
   "metadata": {},
   "outputs": [],
   "source": [
    "%matplotlib inline\n",
    "import pandas as pd\n",
    "import numpy as np\n",
    "import tkinter as tk\n",
    "import os\n",
    "from tkinter import filedialog\n",
    "import sys\n",
    "import seaborn as sns\n",
    "from scipy import stats\n",
    "import matplotlib.pyplot as plt\n"
   ]
  },
  {
   "cell_type": "code",
   "execution_count": null,
   "metadata": {},
   "outputs": [],
   "source": [
    "root=tk.Tk()\n",
    "root.withdraw()\n",
    "file=filedialog.askopenfile(title=\"Select the file\")\n",
    "education = pd.read_csv(file)"
   ]
  },
  {
   "cell_type": "code",
   "execution_count": null,
   "metadata": {},
   "outputs": [],
   "source": [
    "# First Moment Business Decision: Mean Median, Mode\n",
    "\n",
    "print('The mean Workexp is {0}, The Median workexp is {1}, The Mode of Workexp is {2}'.format(education.workex.mean(),education.workex.median(),education.workex.mode()))"
   ]
  },
  {
   "cell_type": "code",
   "execution_count": null,
   "metadata": {},
   "outputs": [],
   "source": [
    "# Second Moment Business Decision: The measures of dispersion: Variance, Standard Deviance and Range\n",
    "\n",
    "print('The Variance of the work Experience is {0}, Standard deviation is {1} and range is {2}'.format(education.workex.var(),education.workex.std(),(max(education.workex)-min(education.workex))))"
   ]
  },
  {
   "cell_type": "code",
   "execution_count": null,
   "metadata": {},
   "outputs": [],
   "source": [
    "# Third Moment Business Decision : Skewness\n",
    "\n",
    "print('The Skewness of Workexp is {0} and the skewness of GMAT is {1}'.format(education.workex.skew(),education.gmat.skew()))\n",
    "\n",
    "# -ve skewness value indicates it is a left tailed or left skewed\n",
    "# +ve skewness indicate it is a right tailed distribution or right skewed."
   ]
  },
  {
   "cell_type": "code",
   "execution_count": null,
   "metadata": {},
   "outputs": [],
   "source": [
    "# Fourth Moment of Business: Kurtosis\n",
    "\n",
    "print('The Skewness of Workexp is {0} and the skewness of GMAT is {1}'.format(education.workex.kurt(),education.gmat.kurt()))\n",
    "\n",
    "# Positive value in Kurtosis indicate a narrow peak\n",
    "# Negative valued kurtosis indicate a wider peak."
   ]
  },
  {
   "cell_type": "markdown",
   "metadata": {},
   "source": [
    "<h3>Data Visualization </h3>"
   ]
  },
  {
   "cell_type": "code",
   "execution_count": null,
   "metadata": {},
   "outputs": [],
   "source": [
    "education.shape # Gives the shape of the data. i.e.,  number of rows and columns"
   ]
  },
  {
   "cell_type": "code",
   "execution_count": null,
   "metadata": {},
   "outputs": [],
   "source": [
    "plt.bar(height=education.gmat,x=np.arange(1,774,1)); \n",
    "# By ending the Plot quote with ';' We can elminate the test generated above the plot.\n",
    "# Generating a bar chart with each value in the row as a bar, representing GMAT scores on Y-axis and arranged numbers from 1 to 774 in increment of 1 on X-axis"
   ]
  },
  {
   "cell_type": "code",
   "execution_count": null,
   "metadata": {},
   "outputs": [],
   "source": [
    "plt.hist(education.gmat);\n",
    "\n",
    "# Histogram of GMAT scores"
   ]
  },
  {
   "cell_type": "code",
   "execution_count": null,
   "metadata": {},
   "outputs": [],
   "source": [
    "plt.boxplot(education.gmat);\n",
    "\n",
    "# Boxplot for the GMAT Scores"
   ]
  },
  {
   "cell_type": "code",
   "execution_count": null,
   "metadata": {},
   "outputs": [],
   "source": [
    "# Generating a Quantile Quantile plot to check if the data is normally distributed or not\n",
    "\n",
    "import pylab\n",
    "stats.probplot(education.gmat,dist='norm',plot=pylab) # from scipy stats library was imported already"
   ]
  },
  {
   "cell_type": "code",
   "execution_count": null,
   "metadata": {},
   "outputs": [],
   "source": [
    "stats.probplot(education.workex,dist='norm',plot=pylab)"
   ]
  },
  {
   "cell_type": "code",
   "execution_count": null,
   "metadata": {},
   "outputs": [],
   "source": [
    "# The data looks like exponential distribution. So, applying Log transformation\n",
    "stats.probplot(np.log(education.workex),dist='norm',plot=pylab)"
   ]
  },
  {
   "cell_type": "markdown",
   "metadata": {},
   "source": [
    "<h2><b>Data Preprocessing"
   ]
  },
  {
   "cell_type": "code",
   "execution_count": null,
   "metadata": {},
   "outputs": [],
   "source": [
    "root=tk.Tk()\n",
    "root.withdraw()\n",
    "file=filedialog.askopenfile(title=\"Select the file\")\n",
    "# Import ethnic diversity Dataset from EDA_Dataset folder\n",
    "df = pd.read_csv(file)"
   ]
  },
  {
   "cell_type": "markdown",
   "metadata": {},
   "source": [
    "<b> Typecasting data"
   ]
  },
  {
   "cell_type": "code",
   "execution_count": null,
   "metadata": {},
   "outputs": [],
   "source": [
    "#Converting the Salaries into int64 format\n",
    "print(df.dtypes)\n",
    "df.Salaries=df.Salaries.astype('int64')\n",
    "print('The updated data  type of Salies is {}'.format(df.Salaries.dtype))\n",
    "a= df.age.dtypes\n",
    "df.age=df.age.astype('float32')\n",
    "print('The initial data type for age is {0}. The updated data type of age now is {1}'.format(a,df.age.dtypes))"
   ]
  },
  {
   "cell_type": "markdown",
   "metadata": {},
   "source": [
    "<b>Identifying and removing duplicates in the data"
   ]
  },
  {
   "cell_type": "code",
   "execution_count": null,
   "metadata": {},
   "outputs": [],
   "source": [
    "root=tk.Tk()\n",
    "root.withdraw()\n",
    "file=filedialog.askopenfile(title=\"Select the file\")\n",
    "# Import ethnic mtcars_dup from EDA_Dataset folder\n",
    "df = pd.read_csv(file)"
   ]
  },
  {
   "cell_type": "code",
   "execution_count": null,
   "metadata": {},
   "outputs": [],
   "source": [
    "duplicate =df.duplicated() # Creates a Series filled with True or False if the row is a duplicate or not\n",
    "sum(duplicate) # Returns the total number of duplicates\n",
    "sum(df.cyl.duplicated())# Returns the number of duplicated values in the column cyl\n",
    "## Removing the duplcates ##\n",
    "df =df.drop_duplicates() # Drops the Duplicated rows\n",
    "sum(df.duplicated())# Checking for duplicates after dropping the duplicates"
   ]
  },
  {
   "cell_type": "markdown",
   "metadata": {},
   "source": [
    "<b>Outlier Treatment"
   ]
  },
  {
   "cell_type": "code",
   "execution_count": null,
   "metadata": {},
   "outputs": [],
   "source": [
    "root=tk.Tk()\n",
    "root.withdraw()\n",
    "file=filedialog.askopenfile(title=\"Select the file\")\n",
    "# Import ethnic diversity dataset from EDA_Dataset folder\n",
    "df = pd.read_csv(file)"
   ]
  },
  {
   "cell_type": "code",
   "execution_count": null,
   "metadata": {},
   "outputs": [],
   "source": [
    "# Findout the outliers in Salaries Column.\n",
    "sns.boxplot(x=df.Salaries);"
   ]
  },
  {
   "cell_type": "code",
   "execution_count": null,
   "metadata": {},
   "outputs": [],
   "source": [
    "## Alpha Trimming ##\n",
    "# A column can be either referred as dataframe[column] or dataframe.column\n",
    "IQR=df['Salaries'].quantile(0.75)-df.Salaries.quantile(0.25) # Calculating the Inter Quantile range Q3-Q1\n",
    "lower_limit=df['Salaries'].quantile(0.25)-(IQR*1.5)\n",
    "upper_limit=df['Salaries'].quantile(0.75)+(IQR*1.5)\n",
    "\n",
    "# Alpha-Trimming\n",
    "outliers=np.where(df.Salaries>upper_limit,True,np.where(df.Salaries<lower_limit,True,False))\n",
    "df_trimmed=df.loc[~(outliers),]\n",
    "print(df.shape)\n",
    "print(df_trimmed.shape)\n",
    "sns.boxplot(x=df_trimmed.Salaries);"
   ]
  },
  {
   "cell_type": "code",
   "execution_count": null,
   "metadata": {},
   "outputs": [],
   "source": [
    "## Winsorization ##\n",
    "# Replacing the outlier values with the border value i.e., Q3+IQR*1.5 and Q1-IQR*1.5\n",
    "df['Modified_Sal']= pd.DataFrame(np.where(df.Salaries>upper_limit,upper_limit,np.where(df.Salaries<lower_limit,lower_limit,df.Salaries)))\n",
    "print(df.shape)\n",
    "sns.boxplot(x=df.Modified_Sal);"
   ]
  },
  {
   "cell_type": "code",
   "execution_count": null,
   "metadata": {},
   "outputs": [],
   "source": [
    "# Alternatively we can use winsorizer function from feature_engine\n",
    "from feature_engine.outliers import Winsorizer\n",
    "winsor=Winsorizer(capping_method='iqr',\n",
    "                        tail='both',\n",
    "                        fold=1.5,\n",
    "                        variables=['Salaries'])\n",
    "df_t=winsor.fit_transform(df[['Salaries']])\n",
    "sns.boxplot(x=df_t.Salaries);"
   ]
  },
  {
   "cell_type": "markdown",
   "metadata": {},
   "source": [
    "<b>Zero Variance and Near zero variance"
   ]
  },
  {
   "cell_type": "code",
   "execution_count": null,
   "metadata": {},
   "outputs": [],
   "source": [
    "df.var()\n",
    "# If the Variance of the data in a column is Zero or near zero, we cannot do any statistical analysis>Hence we can ignore that feature for further analysis"
   ]
  },
  {
   "cell_type": "markdown",
   "metadata": {},
   "source": [
    "<b>Missing values imputation"
   ]
  },
  {
   "cell_type": "code",
   "execution_count": null,
   "metadata": {},
   "outputs": [],
   "source": [
    "root=tk.Tk()\n",
    "root.withdraw()\n",
    "file=filedialog.askopenfile(title=\"Select the file\")\n",
    "# Import modified ethnic dataset from EDA_Dataset folder\n",
    "df = pd.read_csv(file)"
   ]
  },
  {
   "cell_type": "code",
   "execution_count": null,
   "metadata": {},
   "outputs": [],
   "source": [
    "df.isna().sum() # Checking the Missing values in each column"
   ]
  },
  {
   "cell_type": "code",
   "execution_count": null,
   "metadata": {},
   "outputs": [],
   "source": [
    "# Mean imputer\n",
    "from sklearn.impute import SimpleImputer\n",
    "mean_imputer=SimpleImputer(strategy='mean')\n",
    "df.Salaries=pd.DataFrame(mean_imputer.fit_transform(df[['Salaries']]))\n",
    "print('The Na values in the Salaries column now is {0}'.format(df.Salaries.isna().sum()))\n",
    "\n",
    "# Median imputation\n",
    "median_imputer=SimpleImputer(strategy='median')\n",
    "df['age']=pd.DataFrame(median_imputer.fit_transform(df[['age']]))\n",
    "print('The Na values in the age column now is {0}'.format(df.age.isna().sum()))\n",
    "\n",
    "# Mode imputation\n",
    "mode_imputer=SimpleImputer(strategy='most_frequent')\n",
    "df['Sex']=pd.DataFrame(mode_imputer.fit_transform(df[['Sex']]))\n",
    "print('The Na values in the Sex column now is {0}'.format(df.Sex.isna().sum()))"
   ]
  },
  {
   "cell_type": "markdown",
   "metadata": {},
   "source": [
    "<b>Dummy variable creation"
   ]
  },
  {
   "cell_type": "code",
   "execution_count": null,
   "metadata": {},
   "outputs": [],
   "source": [
    "root=tk.Tk()\n",
    "root.withdraw()\n",
    "file=filedialog.askopenfile(title=\"Select the file\")\n",
    "# Import ethnic diversity dataset from EDA_Dataset folder\n",
    "df = pd.read_csv(file)"
   ]
  },
  {
   "cell_type": "code",
   "execution_count": null,
   "metadata": {},
   "outputs": [],
   "source": [
    "df.columns # Gives all the column names\n",
    "df.shape  # Gives the number of rows and no.of columns in a dataframe.\n",
    "df.drop(['Employee_Name','EmpID','Zip'],axis=1,inplace=True) # Dropping specified columns. Inplace =True means in memory only\n",
    "df.dtypes\n"
   ]
  },
  {
   "cell_type": "code",
   "execution_count": null,
   "metadata": {},
   "outputs": [],
   "source": [
    "# creating dummy variables for all categorical columns\n",
    "df_new=pd.get_dummies(df)\n",
    "df_new1=pd.get_dummies(df,drop_first=True)# creating dummies after dropping the first category"
   ]
  },
  {
   "cell_type": "code",
   "execution_count": null,
   "metadata": {},
   "outputs": [],
   "source": [
    "## One hot Encoding ##\n",
    "df=df[['Salaries','age','Position','State','Sex','MaritalDesc','CitizenDesc','EmploymentStatus','Department','Race']] #Creating a df with selected columns in specific order.\n",
    "from sklearn.preprocessing import OneHotEncoder\n",
    "enc=OneHotEncoder()  # Initializing the method with default arguements\n",
    "enc_df=pd.DataFrame(enc.fit_transform(df.iloc[:,2:]).toarray())\n"
   ]
  },
  {
   "cell_type": "code",
   "execution_count": null,
   "metadata": {},
   "outputs": [],
   "source": [
    "## Label Encoding ##\n",
    "from sklearn.preprocessing import LabelEncoder\n",
    "label= LabelEncoder() # Initializing the method with default arguements\n",
    "# Splitting the data into Output and Input Variables\n",
    "# The splitting is optional and not mandatory in data cleaning. But we do this for Machine Learning\n",
    "X=df.iloc[:,:9]\n",
    "y=df['Race']\n",
    "X['Sex']=label.fit_transform(X['Sex'])\n",
    "X['MaritalDesc']=label.fit_transform(X['MaritalDesc'])\n",
    "X['CitizenDesc']=label.fit_transform(X['CitizenDesc'])\n",
    "y=label.fit_transform(y)# Creates an array of numbers\n",
    "y=pd.DataFrame(y)\n",
    "df_new2=pd.concat([X,y],axis=1)# Appends the y column as column name'0' in the end\n",
    "df_new2=df_new2.rename(columns={0:'Type'}) # Renaming the y column as 'Type'"
   ]
  },
  {
   "cell_type": "markdown",
   "metadata": {},
   "source": [
    "<b>Standardization and Normalization"
   ]
  },
  {
   "cell_type": "code",
   "execution_count": null,
   "metadata": {},
   "outputs": [],
   "source": [
    "root=tk.Tk()\n",
    "root.withdraw()\n",
    "file=filedialog.askopenfile(title=\"Select the file\")\n",
    "# Import mtcars dataset from EDA_Dataset folder\n",
    "df = pd.read_csv(file)\n"
   ]
  },
  {
   "cell_type": "code",
   "execution_count": null,
   "metadata": {},
   "outputs": [],
   "source": [
    "#Standardization\n",
    "from sklearn.preprocessing import StandardScaler\n",
    "scaler=StandardScaler()# Initializing the scaler with default arguements\n",
    "data=pd.DataFrame(scaler.fit_transform(df))\n",
    "data.describe()"
   ]
  },
  {
   "cell_type": "code",
   "execution_count": null,
   "metadata": {},
   "outputs": [],
   "source": [
    "#Normalization\n",
    "root=tk.Tk()\n",
    "root.withdraw()\n",
    "file=filedialog.askopenfile(title=\"Select the file\")\n",
    "# Import Ethinc diversity dataset from EDA_Dataset folder\n",
    "df = pd.read_csv(file)\n",
    "df.drop(['Employee_Name','EmpID','Zip'],axis=1,inplace=True)\n",
    "df=pd.get_dummies(df,drop_first=True)"
   ]
  },
  {
   "cell_type": "code",
   "execution_count": null,
   "metadata": {},
   "outputs": [],
   "source": [
    "\n",
    "# Writing a custom function to calculate the Normalized values\n",
    "def norm_func(i):\n",
    "  x=(i-i.min())/(i.max()-i.min())\n",
    "  return(x)\n",
    "\n",
    "df_norm=norm_func(df)\n",
    "df_norm.describe()"
   ]
  },
  {
   "cell_type": "markdown",
   "metadata": {},
   "source": [
    "<h2><b>Unsupervised learning</h2>\n",
    "\n",
    "<h3>Hierarchical CLustering"
   ]
  },
  {
   "cell_type": "code",
   "execution_count": null,
   "metadata": {},
   "outputs": [],
   "source": [
    "%matplotlib inline\n",
    "import pandas as pd\n",
    "import matplotlib.pylab as plt\n",
    "# Import the University_Clustering data from Hierarchical_clustering\n",
    "df = pd.read_excel(\"C:\\\\Study\\\\aispry\\\\aispry\\\\Data\\\\Hierarchical_clustering\\\\University_Clustering.xlsx\")\n",
    "# Dropping the State Column\n",
    "df.drop(['State'],axis=1,inplace=True)\n",
    "# Writing a custom function to calculate the Normalized values\n",
    "def norm_func(i):\n",
    "  x=(i-i.min())/(i.max()-i.min())\n",
    "  return(x)\n",
    "# Normalizing all values except the University name\n",
    "df_norm=norm_func(df.iloc[:,1:])\n",
    "df_norm.describe()"
   ]
  },
  {
   "cell_type": "code",
   "execution_count": null,
   "metadata": {},
   "outputs": [],
   "source": [
    "# Creating a Dendogram\n",
    "from scipy.cluster.hierarchy import linkage\n",
    "import scipy.cluster.hierarchy as sch\n",
    "z=linkage(df_norm,method='complete',metric='euclidean') # Creates an array of the euclidean distances based on complete linkage\n",
    "#Dendogram\n",
    "plt.figure(figsize=(15,8)); # Defining the length and height of the diagram\n",
    "plt.title('Hierarchical Clustering Dedogram');\n",
    "plt.xlabel('Index');\n",
    "plt.ylabel('Distance');\n",
    "sch.dendrogram(z,\n",
    "    leaf_rotation=0,  #Rotates the X axis label\n",
    "    leaf_font_size=10 #Font size for the x axis labels\n",
    ")\n",
    "plt.show()\n"
   ]
  },
  {
   "cell_type": "code",
   "execution_count": null,
   "metadata": {},
   "outputs": [],
   "source": [
    "# Now Apply Agglomerative clustering choosing 3 clusters in the above dendogram\n",
    "from sklearn.cluster import AgglomerativeClustering\n",
    "h_complete =AgglomerativeClustering(n_clusters=3,linkage='complete',affinity='euclidean').fit(df_norm)\n",
    "h_complete.labels_ # This gives the array of Label values based on the index values\n",
    "cluster_labels = pd.Series(h_complete.labels_) # converting the array to Pandas series\n",
    "df['clust']=cluster_labels # adding a column to the dataframe\n",
    "df=df.iloc[:,[7,0,1,2,3,4,5,6]] # Re-arranging the columns. If the cell is run multiple times it rearranges randomly\n",
    "df.head()\n",
    "# Getting the aggregate values of the cluster\n",
    "df.iloc[:,2:].groupby(df.clust).mean()\n",
    "# Exporting the data to a CSV File\n",
    "df.to_csv(\"University.csv\",encoding=\"utf-8\")\n"
   ]
  },
  {
   "cell_type": "markdown",
   "metadata": {},
   "source": [
    "<h3><b>K-Means CLustering"
   ]
  },
  {
   "cell_type": "code",
   "execution_count": null,
   "metadata": {},
   "outputs": [],
   "source": [
    "%matplotlib inline\n",
    "import pandas as pd\n",
    "import numpy as np\n",
    "from sklearn.cluster import KMeans\n",
    "X = np.random.uniform(0,1,50) # Creates an array of 50 Uniformly distributed Random values between 0 and 1\n",
    "Y = np.random.uniform(0,1,50) # Creates an array of 50 Uniformly distributed Random values between 0 and 1\n",
    "df_xy = pd.DataFrame(columns=[\"X\",\"Y\"])\n",
    "df_xy.X = X\n",
    "df_xy.Y = Y"
   ]
  },
  {
   "cell_type": "code",
   "execution_count": null,
   "metadata": {},
   "outputs": [],
   "source": [
    "# Creating a scatter plot using the two variables X and Y\n",
    "df_xy.plot(x=\"X\",y=\"Y\",kind=\"scatter\");"
   ]
  },
  {
   "cell_type": "code",
   "execution_count": null,
   "metadata": {},
   "outputs": [],
   "source": [
    "\n",
    "model1 = KMeans(n_clusters=3).fit(df_xy)"
   ]
  },
  {
   "cell_type": "code",
   "execution_count": null,
   "metadata": {},
   "outputs": [],
   "source": [
    "import matplotlib.pyplot as plt\n",
    "df_xy.plot(x = \"X\",# Defining the X variable\n",
    "  y = \"Y\",  # Defining the Y variable\n",
    "  c = model1.labels_, # Specifying to color the various labels\n",
    "  kind = 'scatter', # Specifying the type of plot\n",
    "  s = 10, # Number of levels in colors end to end\n",
    "  cmap=plt.cm.coolwarm # cm -> color map: coolwarm\n",
    "  );"
   ]
  },
  {
   "cell_type": "code",
   "execution_count": null,
   "metadata": {},
   "outputs": [],
   "source": [
    "# K means clustering on the university datset\n",
    "# Import the University_Clustering data from Hierarchical_clustering\n",
    "df = pd.read_excel(\"C:\\\\Study\\\\aispry\\\\aispry\\\\Data\\\\Hierarchical_clustering\\\\University_Clustering.xlsx\")\n",
    "# Dropping the State Column\n",
    "df.drop(['State'],axis=1,inplace=True)\n",
    "# Writing a custom function to calculate the Normalized values\n",
    "def norm_func(i):\n",
    "  x=(i-i.min())/(i.max()-i.min())\n",
    "  return(x)\n",
    "# Normalizing all values except the University name\n",
    "df_norm=norm_func(df.iloc[:,1:])\n",
    "df_norm.describe()"
   ]
  },
  {
   "cell_type": "code",
   "execution_count": null,
   "metadata": {},
   "outputs": [],
   "source": [
    "## Preparing a Elbow curve or Scree plot ##\n",
    "twss=[]\n",
    "k=list(range(2,9))\n",
    "# Writing down a function to append the Total Within Sum of Squares distance for various no. of clusters (2-9) and create a list\n",
    "for i in k:\n",
    "  kmeans = KMeans(n_clusters = i)\n",
    "  kmeans.fit(df_norm)\n",
    "  twss.append(kmeans.inertia_) # Inertia_ gives the TOtal Within sum of Squares distance in the kmeans object\n",
    "\n",
    "type(twss) # Gives the type of the vriable\n",
    "plt.plot(k,twss,'ro-');plt.xlabel(\"No.of Clusters\");plt.ylabel(\"Total Within Sum of Squares\");"
   ]
  },
  {
   "cell_type": "code",
   "execution_count": null,
   "metadata": {},
   "outputs": [],
   "source": [
    "univ_model = KMeans(n_clusters=3).fit(df_norm)\n",
    "cluster_label = pd.Series(univ_model.labels_)# converting the array to Pandas series\n",
    "df['Cluster Label'] = cluster_label \n",
    "cols =['Cluster Label','Univ','SAT','Top10','Accept','SFRatio','Expenses','GradRate'] # Creating a list of columns in the order we want using the names rather than indices\n",
    "df = df[cols] # Re-arring the columns using the cols label\n",
    "df.iloc[:,2:8].groupby(df[\"Cluster Label\"]).mean() # Looking at the Cluster averages.\n",
    "df.to_csv(\"Kmeans_clustering.csv\",encoding='utf-8')"
   ]
  },
  {
   "cell_type": "markdown",
   "metadata": {},
   "source": [
    "<h4><b> Association rules"
   ]
  },
  {
   "cell_type": "code",
   "execution_count": 1,
   "metadata": {},
   "outputs": [],
   "source": [
    "# Install the package 'mlxtend' to implement apriori algorithm\n",
    "import pandas as pd\n",
    "from mlxtend.frequent_patterns import apriori, association_rules"
   ]
  },
  {
   "cell_type": "code",
   "execution_count": 2,
   "metadata": {},
   "outputs": [],
   "source": [
    "groceries=[]# creating and empty list\n",
    "with open (\"C:\\\\Users\\\\jamit\\\\Desktop\\\\Aispry\\\\Data\\\\Groceries\\\\groceries.csv\") as f:\n",
    "  groceries=f.read()"
   ]
  },
  {
   "cell_type": "code",
   "execution_count": 4,
   "metadata": {},
   "outputs": [],
   "source": [
    "# Our Dataset is not in a organized way. So, we shall parse the data carefully.\n",
    "groceries=[]# creating and empty list\n",
    "with open (\"C:\\\\Users\\\\jamit\\\\Desktop\\\\Aispry\\\\Data\\\\Groceries\\\\groceries.csv\") as f:\n",
    "  groceries=f.read()\n",
    "# groceries is a single string right now\n",
    "# all the data is now stored in the groceries object. Now splitting the rows based on /n marker\n",
    "groceries=groceries.splitlines()# Creates a list of lines with entire text in the line as a string \n",
    "# Now split the columns based on ','sperator\n",
    "groceries_list=[]\n",
    "for i in groceries: # i.e., for each line in groceries \n",
    "  groceries_list.append(i.split(\",\")) # Creates a list of lines with list of coma seperated values\n",
    "all_groceries_list=[i for item in groceries_list for i in item] # Creating the list of items in a single list instead of looped list\n",
    "from collections import Counter # Ordered dictionary\n",
    "item_freq =Counter(all_groceries_list) # Creates a Dictonary of items and their frequency\n",
    "item_freq = sorted(item_freq.items(),key = lambda x:x[1])\n",
    "# Storing the frequencies and items in seperate variables\n",
    "frequencies = list(reversed([i[1] for i in item_freq]))\n",
    "items = list(reversed([i[0] for i in item_freq]))"
   ]
  },
  {
   "cell_type": "code",
   "execution_count": 5,
   "metadata": {},
   "outputs": [
    {
     "data": {
      "image/png": "[encoded data removed]",
      "text/plain": [
       "<Figure size 432x288 with 1 Axes>"
      ]
     },
     "metadata": {
      "needs_background": "light"
     },
     "output_type": "display_data"
    }
   ],
   "source": [
    "import matplotlib.pyplot as plt\n",
    "#Bar plot for top 10 items\n",
    "plt.bar(height=frequencies[0:11],x=list(range(0,11)),color=['red','green','black','cyan','magenta']);\n",
    "plt.xticks(list(range(0,11),),items[0:11],rotation=90);\n",
    "plt.xlabel(\"Items\");\n",
    "plt.ylabel(\"Count\");"
   ]
  },
  {
   "cell_type": "code",
   "execution_count": 7,
   "metadata": {},
   "outputs": [
    {
     "data": {
      "text/html": [
       "<div>\n",
       "<style scoped>\n",
       "    .dataframe tbody tr th:only-of-type {\n",
       "        vertical-align: middle;\n",
       "    }\n",
       "\n",
       "    .dataframe tbody tr th {\n",
       "        vertical-align: top;\n",
       "    }\n",
       "\n",
       "    .dataframe thead th {\n",
       "        text-align: right;\n",
       "    }\n",
       "</style>\n",
       "<table border=\"1\" class=\"dataframe\">\n",
       "  <thead>\n",
       "    <tr style=\"text-align: right;\">\n",
       "      <th></th>\n",
       "      <th>Instant food products</th>\n",
       "      <th>UHT-milk</th>\n",
       "      <th>abrasive cleaner</th>\n",
       "      <th>artif. sweetener</th>\n",
       "      <th>baby cosmetics</th>\n",
       "      <th>baby food</th>\n",
       "      <th>bags</th>\n",
       "      <th>baking powder</th>\n",
       "      <th>bathroom cleaner</th>\n",
       "      <th>beef</th>\n",
       "      <th>...</th>\n",
       "      <th>turkey</th>\n",
       "      <th>vinegar</th>\n",
       "      <th>waffles</th>\n",
       "      <th>whipped/sour cream</th>\n",
       "      <th>whisky</th>\n",
       "      <th>white bread</th>\n",
       "      <th>white wine</th>\n",
       "      <th>whole milk</th>\n",
       "      <th>yogurt</th>\n",
       "      <th>zwieback</th>\n",
       "    </tr>\n",
       "  </thead>\n",
       "  <tbody>\n",
       "    <tr>\n",
       "      <th>0</th>\n",
       "      <td>0</td>\n",
       "      <td>0</td>\n",
       "      <td>0</td>\n",
       "      <td>0</td>\n",
       "      <td>0</td>\n",
       "      <td>0</td>\n",
       "      <td>0</td>\n",
       "      <td>0</td>\n",
       "      <td>0</td>\n",
       "      <td>0</td>\n",
       "      <td>...</td>\n",
       "      <td>0</td>\n",
       "      <td>0</td>\n",
       "      <td>0</td>\n",
       "      <td>0</td>\n",
       "      <td>0</td>\n",
       "      <td>0</td>\n",
       "      <td>0</td>\n",
       "      <td>0</td>\n",
       "      <td>0</td>\n",
       "      <td>0</td>\n",
       "    </tr>\n",
       "    <tr>\n",
       "      <th>1</th>\n",
       "      <td>0</td>\n",
       "      <td>0</td>\n",
       "      <td>0</td>\n",
       "      <td>0</td>\n",
       "      <td>0</td>\n",
       "      <td>0</td>\n",
       "      <td>0</td>\n",
       "      <td>0</td>\n",
       "      <td>0</td>\n",
       "      <td>0</td>\n",
       "      <td>...</td>\n",
       "      <td>0</td>\n",
       "      <td>0</td>\n",
       "      <td>0</td>\n",
       "      <td>0</td>\n",
       "      <td>0</td>\n",
       "      <td>0</td>\n",
       "      <td>0</td>\n",
       "      <td>0</td>\n",
       "      <td>1</td>\n",
       "      <td>0</td>\n",
       "    </tr>\n",
       "    <tr>\n",
       "      <th>2</th>\n",
       "      <td>0</td>\n",
       "      <td>0</td>\n",
       "      <td>0</td>\n",
       "      <td>0</td>\n",
       "      <td>0</td>\n",
       "      <td>0</td>\n",
       "      <td>0</td>\n",
       "      <td>0</td>\n",
       "      <td>0</td>\n",
       "      <td>0</td>\n",
       "      <td>...</td>\n",
       "      <td>0</td>\n",
       "      <td>0</td>\n",
       "      <td>0</td>\n",
       "      <td>0</td>\n",
       "      <td>0</td>\n",
       "      <td>0</td>\n",
       "      <td>0</td>\n",
       "      <td>1</td>\n",
       "      <td>0</td>\n",
       "      <td>0</td>\n",
       "    </tr>\n",
       "  </tbody>\n",
       "</table>\n",
       "<p>3 rows × 169 columns</p>\n",
       "</div>"
      ],
      "text/plain": [
       "   Instant food products  UHT-milk  abrasive cleaner  artif. sweetener  \\\n",
       "0                      0         0                 0                 0   \n",
       "1                      0         0                 0                 0   \n",
       "2                      0         0                 0                 0   \n",
       "\n",
       "   baby cosmetics  baby food  bags  baking powder  bathroom cleaner  beef  \\\n",
       "0               0          0     0              0                 0     0   \n",
       "1               0          0     0              0                 0     0   \n",
       "2               0          0     0              0                 0     0   \n",
       "\n",
       "   ...  turkey  vinegar  waffles  whipped/sour cream  whisky  white bread  \\\n",
       "0  ...       0        0        0                   0       0            0   \n",
       "1  ...       0        0        0                   0       0            0   \n",
       "2  ...       0        0        0                   0       0            0   \n",
       "\n",
       "   white wine  whole milk  yogurt  zwieback  \n",
       "0           0           0       0         0  \n",
       "1           0           0       1         0  \n",
       "2           0           1       0         0  \n",
       "\n",
       "[3 rows x 169 columns]"
      ]
     },
     "execution_count": 7,
     "metadata": {},
     "output_type": "execute_result"
    }
   ],
   "source": [
    "# Creating a dataframe for the transactions data\n",
    "groceries_series=pd.DataFrame(pd.Series(groceries_list))\n",
    "groceries_series.columns=['transactions']# Giving a column name\n",
    "# Now creating dummies per transaction level\n",
    "X = groceries_series['transactions'].str.join(sep=\"*\").str.get_dummies(sep=\"*\")\n",
    "X.head(3)"
   ]
  },
  {
   "cell_type": "code",
   "execution_count": 8,
   "metadata": {},
   "outputs": [],
   "source": [
    "frequent_itemsets= apriori(X,min_support=0.0075, max_len=4,use_colnames=True) # Getting the Frequent sets using apriori algorithm\n",
    "frequent_itemsets.sort_values('support',ascending=False,inplace=True) # Sorting the Frequent items in descending order based on support"
   ]
  },
  {
   "cell_type": "code",
   "execution_count": 10,
   "metadata": {},
   "outputs": [
    {
     "data": {
      "image/png": "[encoded data removed]",
      "text/plain": [
       "<Figure size 432x288 with 1 Axes>"
      ]
     },
     "metadata": {
      "needs_background": "light"
     },
     "output_type": "display_data"
    }
   ],
   "source": [
    "# Plotting the Frequent_itemsets\n",
    "plt.bar(x=list(range(0,11)),height=frequent_itemsets.support[0:11],color=['red','blue','black','cyan','magenta','yellow']);\n",
    "plt.xticks(list(range(0,11)),frequent_itemsets.itemsets[0:11],rotation=90);\n",
    "plt.xlabel('Item-sets');\n",
    "plt.ylabel('Support');"
   ]
  },
  {
   "cell_type": "code",
   "execution_count": 12,
   "metadata": {},
   "outputs": [
    {
     "data": {
      "text/html": [
       "<div>\n",
       "<style scoped>\n",
       "    .dataframe tbody tr th:only-of-type {\n",
       "        vertical-align: middle;\n",
       "    }\n",
       "\n",
       "    .dataframe tbody tr th {\n",
       "        vertical-align: top;\n",
       "    }\n",
       "\n",
       "    .dataframe thead th {\n",
       "        text-align: right;\n",
       "    }\n",
       "</style>\n",
       "<table border=\"1\" class=\"dataframe\">\n",
       "  <thead>\n",
       "    <tr style=\"text-align: right;\">\n",
       "      <th></th>\n",
       "      <th>antecedents</th>\n",
       "      <th>consequents</th>\n",
       "      <th>antecedent support</th>\n",
       "      <th>consequent support</th>\n",
       "      <th>support</th>\n",
       "      <th>confidence</th>\n",
       "      <th>lift</th>\n",
       "      <th>leverage</th>\n",
       "      <th>conviction</th>\n",
       "    </tr>\n",
       "  </thead>\n",
       "  <tbody>\n",
       "    <tr>\n",
       "      <th>1170</th>\n",
       "      <td>(yogurt, other vegetables)</td>\n",
       "      <td>(whole milk, tropical fruit)</td>\n",
       "      <td>0.043416</td>\n",
       "      <td>0.042298</td>\n",
       "      <td>0.007626</td>\n",
       "      <td>0.175644</td>\n",
       "      <td>4.152546</td>\n",
       "      <td>0.005789</td>\n",
       "      <td>1.161758</td>\n",
       "    </tr>\n",
       "    <tr>\n",
       "      <th>1175</th>\n",
       "      <td>(whole milk, tropical fruit)</td>\n",
       "      <td>(yogurt, other vegetables)</td>\n",
       "      <td>0.042298</td>\n",
       "      <td>0.043416</td>\n",
       "      <td>0.007626</td>\n",
       "      <td>0.180288</td>\n",
       "      <td>4.152546</td>\n",
       "      <td>0.005789</td>\n",
       "      <td>1.166976</td>\n",
       "    </tr>\n",
       "    <tr>\n",
       "      <th>1091</th>\n",
       "      <td>(other vegetables, whole milk)</td>\n",
       "      <td>(yogurt, root vegetables)</td>\n",
       "      <td>0.074835</td>\n",
       "      <td>0.025826</td>\n",
       "      <td>0.007829</td>\n",
       "      <td>0.104620</td>\n",
       "      <td>4.050919</td>\n",
       "      <td>0.005896</td>\n",
       "      <td>1.088000</td>\n",
       "    </tr>\n",
       "    <tr>\n",
       "      <th>1090</th>\n",
       "      <td>(yogurt, root vegetables)</td>\n",
       "      <td>(other vegetables, whole milk)</td>\n",
       "      <td>0.025826</td>\n",
       "      <td>0.074835</td>\n",
       "      <td>0.007829</td>\n",
       "      <td>0.303150</td>\n",
       "      <td>4.050919</td>\n",
       "      <td>0.005896</td>\n",
       "      <td>1.327638</td>\n",
       "    </tr>\n",
       "    <tr>\n",
       "      <th>792</th>\n",
       "      <td>(berries)</td>\n",
       "      <td>(whipped/sour cream)</td>\n",
       "      <td>0.033249</td>\n",
       "      <td>0.071683</td>\n",
       "      <td>0.009049</td>\n",
       "      <td>0.272171</td>\n",
       "      <td>3.796886</td>\n",
       "      <td>0.006666</td>\n",
       "      <td>1.275461</td>\n",
       "    </tr>\n",
       "    <tr>\n",
       "      <th>793</th>\n",
       "      <td>(whipped/sour cream)</td>\n",
       "      <td>(berries)</td>\n",
       "      <td>0.071683</td>\n",
       "      <td>0.033249</td>\n",
       "      <td>0.009049</td>\n",
       "      <td>0.126241</td>\n",
       "      <td>3.796886</td>\n",
       "      <td>0.006666</td>\n",
       "      <td>1.106428</td>\n",
       "    </tr>\n",
       "    <tr>\n",
       "      <th>1173</th>\n",
       "      <td>(other vegetables, tropical fruit)</td>\n",
       "      <td>(yogurt, whole milk)</td>\n",
       "      <td>0.035892</td>\n",
       "      <td>0.056024</td>\n",
       "      <td>0.007626</td>\n",
       "      <td>0.212465</td>\n",
       "      <td>3.792358</td>\n",
       "      <td>0.005615</td>\n",
       "      <td>1.198645</td>\n",
       "    </tr>\n",
       "    <tr>\n",
       "      <th>1172</th>\n",
       "      <td>(yogurt, whole milk)</td>\n",
       "      <td>(other vegetables, tropical fruit)</td>\n",
       "      <td>0.056024</td>\n",
       "      <td>0.035892</td>\n",
       "      <td>0.007626</td>\n",
       "      <td>0.136116</td>\n",
       "      <td>3.792358</td>\n",
       "      <td>0.005615</td>\n",
       "      <td>1.116016</td>\n",
       "    </tr>\n",
       "    <tr>\n",
       "      <th>1049</th>\n",
       "      <td>(other vegetables, beef)</td>\n",
       "      <td>(root vegetables)</td>\n",
       "      <td>0.019725</td>\n",
       "      <td>0.108998</td>\n",
       "      <td>0.007931</td>\n",
       "      <td>0.402062</td>\n",
       "      <td>3.688692</td>\n",
       "      <td>0.005781</td>\n",
       "      <td>1.490123</td>\n",
       "    </tr>\n",
       "    <tr>\n",
       "      <th>1052</th>\n",
       "      <td>(root vegetables)</td>\n",
       "      <td>(other vegetables, beef)</td>\n",
       "      <td>0.108998</td>\n",
       "      <td>0.019725</td>\n",
       "      <td>0.007931</td>\n",
       "      <td>0.072761</td>\n",
       "      <td>3.688692</td>\n",
       "      <td>0.005781</td>\n",
       "      <td>1.057197</td>\n",
       "    </tr>\n",
       "  </tbody>\n",
       "</table>\n",
       "</div>"
      ],
      "text/plain": [
       "                             antecedents                         consequents  \\\n",
       "1170          (yogurt, other vegetables)        (whole milk, tropical fruit)   \n",
       "1175        (whole milk, tropical fruit)          (yogurt, other vegetables)   \n",
       "1091      (other vegetables, whole milk)           (yogurt, root vegetables)   \n",
       "1090           (yogurt, root vegetables)      (other vegetables, whole milk)   \n",
       "792                            (berries)                (whipped/sour cream)   \n",
       "793                 (whipped/sour cream)                           (berries)   \n",
       "1173  (other vegetables, tropical fruit)                (yogurt, whole milk)   \n",
       "1172                (yogurt, whole milk)  (other vegetables, tropical fruit)   \n",
       "1049            (other vegetables, beef)                   (root vegetables)   \n",
       "1052                   (root vegetables)            (other vegetables, beef)   \n",
       "\n",
       "      antecedent support  consequent support   support  confidence      lift  \\\n",
       "1170            0.043416            0.042298  0.007626    0.175644  4.152546   \n",
       "1175            0.042298            0.043416  0.007626    0.180288  4.152546   \n",
       "1091            0.074835            0.025826  0.007829    0.104620  4.050919   \n",
       "1090            0.025826            0.074835  0.007829    0.303150  4.050919   \n",
       "792             0.033249            0.071683  0.009049    0.272171  3.796886   \n",
       "793             0.071683            0.033249  0.009049    0.126241  3.796886   \n",
       "1173            0.035892            0.056024  0.007626    0.212465  3.792358   \n",
       "1172            0.056024            0.035892  0.007626    0.136116  3.792358   \n",
       "1049            0.019725            0.108998  0.007931    0.402062  3.688692   \n",
       "1052            0.108998            0.019725  0.007931    0.072761  3.688692   \n",
       "\n",
       "      leverage  conviction  \n",
       "1170  0.005789    1.161758  \n",
       "1175  0.005789    1.166976  \n",
       "1091  0.005896    1.088000  \n",
       "1090  0.005896    1.327638  \n",
       "792   0.006666    1.275461  \n",
       "793   0.006666    1.106428  \n",
       "1173  0.005615    1.198645  \n",
       "1172  0.005615    1.116016  \n",
       "1049  0.005781    1.490123  \n",
       "1052  0.005781    1.057197  "
      ]
     },
     "execution_count": 12,
     "metadata": {},
     "output_type": "execute_result"
    }
   ],
   "source": [
    "rules=association_rules(frequent_itemsets,metric='lift',min_threshold=1)\n",
    "rules.sort_values('lift',ascending=False).head(10)"
   ]
  }
 ],
 "metadata": {
  "interpreter": {
   "hash": "8c4a8b360c0157dfe26207fb9fdfcde646f5420e94cd86b887b553c73308aa1b"
  },
  "kernelspec": {
   "display_name": "Python 3.8.5 64-bit ('base': conda)",
   "language": "python",
   "name": "python3"
  },
  "language_info": {
   "codemirror_mode": {
    "name": "ipython",
    "version": 3
   },
   "file_extension": ".py",
   "mimetype": "text/x-python",
   "name": "python",
   "nbconvert_exporter": "python",
   "pygments_lexer": "ipython3",
   "version": "3.8.12"
  },
  "orig_nbformat": 4
 },
 "nbformat": 4,
 "nbformat_minor": 2
}
